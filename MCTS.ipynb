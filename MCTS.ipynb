{
 "cells": [
  {
   "cell_type": "code",
   "execution_count": 2,
   "metadata": {},
   "outputs": [],
   "source": [
    "import numpy as np\n",
    "import tensorflow as tf\n",
    "import os\n",
    "from src.game import GoState, roll_axis\n",
    "from src.net import DualRes\n",
    "import pachi_py"
   ]
  },
  {
   "cell_type": "code",
   "execution_count": 3,
   "metadata": {},
   "outputs": [],
   "source": [
    "N_ACTIION = 3\n",
    "C_PUCT = 1.38"
   ]
  },
  {
   "cell_type": "code",
   "execution_count": 6,
   "metadata": {},
   "outputs": [],
   "source": [
    "class Node():\n",
    "    def __init__(self, parent, action, prob=None, state = None):\n",
    "        self.parent = parent\n",
    "        self.a = action\n",
    "        self.illegal = False\n",
    "        \n",
    "        # State creaction\n",
    "        if state is None:\n",
    "            try:\n",
    "                state = parent.state.act(self.a)\n",
    "            except:\n",
    "                state = None\n",
    "                self.illegal = True\n",
    "        \n",
    "        self.state = state\n",
    "        \n",
    "        \n",
    "        # New nodes have no children\n",
    "        self.children = dict()\n",
    "        \n",
    "        self.n = 0\n",
    "        self.w = 0\n",
    "        self.q = 0\n",
    "        self.p = prob\n",
    "        \n",
    "        \n",
    "        # terminal state, unable to expand\n",
    "        self.is_terminal = False\n",
    "        \n",
    "        \n",
    "    def select(self):\n",
    "        assert len(self.children) != 0\n",
    "        u = [self.children[a].get_u() for a in range(N_ACTIION)]\n",
    "        sa = np.argmax(u)\n",
    "        return self.children[sa]\n",
    "        \n",
    "    def get_u(self):\n",
    "        return C_PUCT * self.p * np.sqrt(1+self.parent.n) / (1 + self.n)\n",
    "    \n",
    "    def expand(self):\n",
    "        assert len(self.children) == 0\n",
    "        pi = get_prob()\n",
    "        self.children = {a: Node(self, a, pi[a]) for a in range(N_ACTIION)}\n",
    "        \n",
    "        \n",
    "    def backup(self, v):\n",
    "        if self.illegal:\n",
    "            v = -1\n",
    "            \n",
    "        self.w += v\n",
    "        self.n += 1\n",
    "        \n",
    "        if self.parent is not None:\n",
    "            self.parent.backup(v)\n",
    "        \n",
    "    def __repr__(self):\n",
    "        #return repr(self.state)\n",
    "        return 'a: {:2d} p: {:2.2f} \\n'.format(self.a, self.p) + repr(self.state)"
   ]
  },
  {
   "cell_type": "code",
   "execution_count": 7,
   "metadata": {},
   "outputs": [],
   "source": [
    "def mcts(root_node, n=2):\n",
    "    for i in range(n):\n",
    "        print('INFO: MCTS {}'.format(i))\n",
    "        cn = root_node\n",
    "        # Select\n",
    "        print(len(cn.children))\n",
    "        while len(cn.children) != 0:\n",
    "            print('INFO: SELECTION')\n",
    "            cn = cn.select()\n",
    "\n",
    "        # Expand, eval, backup\n",
    "        print('INFO: EXPAND')\n",
    "        cn.expand()\n",
    "        print('INFO: EVALUATION & BACKUP')\n",
    "        for a, n in cn.children.items():\n",
    "            v = eval()\n",
    "            n.backup(v)"
   ]
  },
  {
   "cell_type": "markdown",
   "metadata": {},
   "source": [
    "# Tensorflow Model"
   ]
  },
  {
   "cell_type": "code",
   "execution_count": 22,
   "metadata": {},
   "outputs": [
    {
     "name": "stdout",
     "output_type": "stream",
     "text": [
      "INFO:tensorflow:Restoring parameters from models/v1/v1\n"
     ]
    }
   ],
   "source": [
    "# Load tensorflow graph\n",
    "version = 'v1'\n",
    "tf.reset_default_graph()\n",
    "sess = tf.Session()\n",
    "meta = os.path.join('models', version, version + '.meta')\n",
    "saver = tf.train.import_meta_graph(meta)\n",
    "saver.restore(sess, tf.train.latest_checkpoint(os.path.join('models', version)))\n",
    "graph = tf.get_default_graph()\n",
    "tf_board = graph.get_tensor_by_name('Placeholder:0')\n",
    "tf_player = graph.get_tensor_by_name('Placeholder_1:0')\n",
    "tf_pi = graph.get_tensor_by_name('policy_head/dense/BiasAdd:0')\n",
    "tf_v = graph.get_tensor_by_name('value_head/Tanh:0')\n",
    "\n",
    "\n",
    "def sample(board, player):\n",
    "    pi, v = sess.run([tf_pi, tf_v], {tf_board:[board], tf_player:[player-1]})\n",
    "    return pi, v"
   ]
  },
  {
   "cell_type": "code",
   "execution_count": 23,
   "metadata": {},
   "outputs": [],
   "source": [
    "s0 = GoState(pachi_py.CreateBoard(9), pachi_py.BLACK)\n",
    "root_node = Node(None, None, None, s0)"
   ]
  },
  {
   "cell_type": "code",
   "execution_count": 24,
   "metadata": {},
   "outputs": [],
   "source": [
    "pi, v = sample(roll_axis(s0.board.encode()), pachi_py.BLACK)"
   ]
  },
  {
   "cell_type": "code",
   "execution_count": 26,
   "metadata": {},
   "outputs": [],
   "source": [
    "def _action_to_coord(board, a):\n",
    "    '''Converts actions to Pachi coordinates'''\n",
    "    if a == board.size**2: return pachi_py.PASS_COORD\n",
    "    if a == board.size**2 + 1: return pachi_py.RESIGN_COORD\n",
    "    return board.ij_to_coord(a // board.size, a % board.size)"
   ]
  },
  {
   "cell_type": "code",
   "execution_count": 27,
   "metadata": {},
   "outputs": [
    {
     "data": {
      "text/plain": [
       "b'G5'"
      ]
     },
     "execution_count": 27,
     "metadata": {},
     "output_type": "execute_result"
    }
   ],
   "source": [
    "s0.board.coord_to_str(_action_to_coord(s0.board, np.argmax(pi)))"
   ]
  },
  {
   "cell_type": "code",
   "execution_count": null,
   "metadata": {},
   "outputs": [],
   "source": []
  }
 ],
 "metadata": {
  "kernelspec": {
   "display_name": "Python 3",
   "language": "python",
   "name": "python3"
  },
  "language_info": {
   "codemirror_mode": {
    "name": "ipython",
    "version": 3
   },
   "file_extension": ".py",
   "mimetype": "text/x-python",
   "name": "python",
   "nbconvert_exporter": "python",
   "pygments_lexer": "ipython3",
   "version": "3.5.2"
  }
 },
 "nbformat": 4,
 "nbformat_minor": 2
}
