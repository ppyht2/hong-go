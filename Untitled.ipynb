{
 "cells": [
  {
   "cell_type": "code",
   "execution_count": 1,
   "metadata": {
    "collapsed": true
   },
   "outputs": [],
   "source": [
    "import os\n",
    "import pachi_py\n",
    "import joblib\n",
    "import numpy as np\n",
    "from src.net import DualRes\n",
    "from src.game import TrainingEnvironment, PachiPlayer\n",
    "from one import process_batch\n",
    "\n",
    "import matplotlib.pyplot as plt\n",
    "\n",
    "%matplotlib inline"
   ]
  },
  {
   "cell_type": "code",
   "execution_count": 2,
   "metadata": {
    "collapsed": true
   },
   "outputs": [],
   "source": [
    "batch_dir = 'data'\n",
    "batch_names = [os.path.join(batch_dir, i) for i in os.listdir(batch_dir)]"
   ]
  },
  {
   "cell_type": "code",
   "execution_count": 3,
   "metadata": {
    "collapsed": false
   },
   "outputs": [],
   "source": [
    "batch = joblib.load(batch_names[10])\n",
    "s, a, v, p = process_batch(batch)"
   ]
  },
  {
   "cell_type": "code",
   "execution_count": 4,
   "metadata": {
    "collapsed": false
   },
   "outputs": [],
   "source": [
    "model = DualRes(n_feature=3, n_filter=128, n_residual=6, game_size=9)\n",
    "model.build_graph()"
   ]
  },
  {
   "cell_type": "code",
   "execution_count": 5,
   "metadata": {
    "collapsed": false
   },
   "outputs": [
    {
     "data": {
      "text/plain": [
       "array([4.4845796, 4.3352475, 4.4098897, 4.402972 , 4.4219046, 4.433224 ,\n",
       "       4.4198914, 4.4673347, 4.486073 , 4.4318027, 4.413346 , 4.4608793,\n",
       "       4.4316397, 4.3212976, 4.353847 , 4.424706 , 4.379547 , 4.4197736,\n",
       "       4.428738 , 4.311937 , 4.4126916, 4.3533144, 4.404368 , 4.451722 ,\n",
       "       4.413529 , 4.3922205, 4.507517 , 4.3448534, 4.3637795, 4.5605063,\n",
       "       4.400575 , 4.5440497, 4.2983027, 4.3083797, 4.4655914, 4.368043 ,\n",
       "       4.5148144, 4.233107 , 4.405881 , 4.3910108, 4.4290943, 4.4773316,\n",
       "       4.3536386, 4.3374696, 4.3704925, 4.393097 , 4.3728385, 4.4566517,\n",
       "       4.4277997, 4.383259 , 4.3900857, 4.484392 , 4.407478 , 4.44092  ,\n",
       "       4.395035 , 4.4120665, 4.347575 , 4.366657 ,       nan],\n",
       "      dtype=float32)"
      ]
     },
     "execution_count": 5,
     "metadata": {},
     "output_type": "execute_result"
    }
   ],
   "source": [
    "ans = model.sess.run(model.policy_xent, feed_dict={model.input_features:s,\n",
    "                                                   model.input_player:p,\n",
    "                                                   model.train_pi:a,\n",
    "                                                   model.train_values:v})\n",
    "ans"
   ]
  },
  {
   "cell_type": "code",
   "execution_count": 15,
   "metadata": {
    "collapsed": false
   },
   "outputs": [
    {
     "data": {
      "text/plain": [
       "array([[-0.05178372, -0.01629389, -0.10151392, ...,  0.00559943,\n",
       "         0.03911192, -0.01595264],\n",
       "       [-0.0547253 , -0.00134745, -0.09466454, ...,  0.01697748,\n",
       "         0.05513144, -0.01523553],\n",
       "       [-0.05005549, -0.01647129, -0.08214607, ...,  0.01125615,\n",
       "         0.05103752, -0.02345986],\n",
       "       ...,\n",
       "       [-0.1337393 , -0.00435274, -0.15075122, ..., -0.01130879,\n",
       "         0.10885288, -0.01358281],\n",
       "       [-0.14163259, -0.00095066, -0.14834213, ..., -0.02042407,\n",
       "         0.1081093 , -0.02726823],\n",
       "       [-0.14019513,  0.00277635, -0.1374235 , ..., -0.01988199,\n",
       "         0.1103044 , -0.02808958]], dtype=float32)"
      ]
     },
     "execution_count": 15,
     "metadata": {},
     "output_type": "execute_result"
    }
   ],
   "source": [
    "ans = model.sess.run(model.policy_logits, feed_dict={model.input_features:s,\n",
    "                                                   model.input_player:p,\n",
    "                                                   model.train_pi:a,\n",
    "                                                   model.train_values:v})\n",
    "ans"
   ]
  },
  {
   "cell_type": "code",
   "execution_count": 17,
   "metadata": {
    "collapsed": false
   },
   "outputs": [
    {
     "data": {
      "text/plain": [
       "array([-1.40195131e-01,  2.77634570e-03, -1.37423500e-01, -8.65880847e-02,\n",
       "        8.50252062e-02, -3.44145223e-02, -1.28490729e-02,  2.00861637e-02,\n",
       "        1.90519169e-01,  8.02068859e-02, -4.10907008e-02, -8.43710378e-02,\n",
       "        7.16177300e-02, -1.40810749e-02, -7.40932375e-02, -9.14799329e-03,\n",
       "        2.18773726e-03, -9.48628187e-02, -7.87226856e-03,  7.01643899e-02,\n",
       "       -5.39043993e-02, -9.34221372e-02, -1.57966569e-01,  1.18766084e-01,\n",
       "       -5.49608730e-02, -1.79897901e-02,  4.42309827e-02, -7.73246810e-02,\n",
       "       -8.81737694e-02, -1.65118679e-01, -1.08062476e-01,  1.47014201e-01,\n",
       "        2.23434605e-02, -5.48670255e-02, -4.77156416e-02, -8.00325274e-02,\n",
       "       -1.62101105e-01,  1.19993649e-01,  6.01301230e-02, -7.66759291e-02,\n",
       "        5.37721775e-02, -5.48154823e-02, -3.62316631e-02, -2.67926268e-02,\n",
       "        3.97098064e-03,  3.62421572e-02,  4.83943820e-02,  1.49031524e-02,\n",
       "       -5.24030812e-02,  4.00669500e-03,  3.92063633e-02, -7.49244019e-02,\n",
       "        4.34130169e-02, -6.32249340e-02, -4.85226586e-02,  5.91180585e-02,\n",
       "       -1.84470173e-02, -2.21053865e-02, -3.46243121e-02, -7.19249481e-03,\n",
       "       -7.07214251e-02,  9.13932621e-02, -1.18366787e-02, -1.01939321e-01,\n",
       "       -3.22220698e-02,  1.02900143e-04, -2.91191153e-02, -7.86450878e-02,\n",
       "        4.40574735e-02,  2.16589868e-02,  7.54646808e-02,  1.76393956e-01,\n",
       "        9.94735062e-02, -2.48901248e-02,  8.62637721e-03,  2.33561471e-02,\n",
       "       -7.30435401e-02,  8.05025920e-02, -1.35939885e-02, -1.98819861e-02,\n",
       "        1.10304400e-01, -2.80895755e-02], dtype=float32)"
      ]
     },
     "execution_count": 17,
     "metadata": {},
     "output_type": "execute_result"
    }
   ],
   "source": [
    "ans[-1]"
   ]
  },
  {
   "cell_type": "code",
   "execution_count": 18,
   "metadata": {
    "collapsed": false
   },
   "outputs": [
    {
     "data": {
      "text/plain": [
       "82"
      ]
     },
     "execution_count": 18,
     "metadata": {},
     "output_type": "execute_result"
    }
   ],
   "source": [
    "a[-1]"
   ]
  },
  {
   "cell_type": "code",
   "execution_count": 24,
   "metadata": {
    "collapsed": false
   },
   "outputs": [
    {
     "data": {
      "text/plain": [
       "(59, 82)"
      ]
     },
     "execution_count": 24,
     "metadata": {},
     "output_type": "execute_result"
    }
   ],
   "source": [
    "ans.shape"
   ]
  },
  {
   "cell_type": "code",
   "execution_count": 7,
   "metadata": {
    "collapsed": false
   },
   "outputs": [],
   "source": [
    "def show(arr):\n",
    "    fig, ax = plt.subplots(1, arr.shape[-1], figsize=(18, 8))\n",
    "    for i in range(arr.shape[-1]):\n",
    "        ax[i].imshow(arr[:, :, i])"
   ]
  },
  {
   "cell_type": "code",
   "execution_count": 8,
   "metadata": {
    "collapsed": false
   },
   "outputs": [
    {
     "data": {
      "image/png": "[encoded data removed]",
      "text/plain": [
       "<matplotlib.figure.Figure at 0x7fb92e1799e8>"
      ]
     },
     "metadata": {},
     "output_type": "display_data"
    }
   ],
   "source": [
    "show(s[-1])"
   ]
  },
  {
   "cell_type": "code",
   "execution_count": null,
   "metadata": {
    "collapsed": true
   },
   "outputs": [],
   "source": []
  }
 ],
 "metadata": {
  "kernelspec": {
   "display_name": "Python 3",
   "language": "python",
   "name": "python3"
  },
  "language_info": {
   "codemirror_mode": {
    "name": "ipython",
    "version": 3
   },
   "file_extension": ".py",
   "mimetype": "text/x-python",
   "name": "python",
   "nbconvert_exporter": "python",
   "pygments_lexer": "ipython3",
   "version": "3.5.2"
  }
 },
 "nbformat": 4,
 "nbformat_minor": 2
}
