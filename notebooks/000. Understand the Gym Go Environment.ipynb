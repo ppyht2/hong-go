{
 "cells": [
  {
   "cell_type": "code",
   "execution_count": 1,
   "metadata": {
    "collapsed": true,
    "deletable": true,
    "editable": true
   },
   "outputs": [],
   "source": [
    "import gym\n",
    "import matplotlib.pyplot as plt\n",
    "import numpy as np\n",
    "\n",
    "SEED = 0\n",
    "\n",
    "%matplotlib inline"
   ]
  },
  {
   "cell_type": "markdown",
   "metadata": {},
   "source": [
    "## What are the Go Environments?"
   ]
  },
  {
   "cell_type": "code",
   "execution_count": 2,
   "metadata": {
    "collapsed": false,
    "deletable": true,
    "editable": true
   },
   "outputs": [
    {
     "name": "stdout",
     "output_type": "stream",
     "text": [
      "GopherDeterministic-v0\n",
      "Gopher-ram-v4\n",
      "Go19x19-v0\n",
      "Gopher-ramNoFrameskip-v4\n",
      "GopherNoFrameskip-v4\n",
      "GopherDeterministic-v4\n",
      "Gopher-ramDeterministic-v0\n",
      "Gopher-ramDeterministic-v4\n",
      "Gopher-v4\n",
      "Gopher-ram-v0\n",
      "GopherNoFrameskip-v0\n",
      "Gopher-ramNoFrameskip-v0\n",
      "Gopher-v0\n",
      "Go9x9-v0\n"
     ]
    }
   ],
   "source": [
    "for i in gym.envs.registry.all():\n",
    "    if 'Go' in i.id:\n",
    "        print(i.id)"
   ]
  },
  {
   "cell_type": "code",
   "execution_count": 3,
   "metadata": {
    "collapsed": true,
    "deletable": true,
    "editable": true
   },
   "outputs": [],
   "source": [
    "env_id = 'Go9x9-v0'"
   ]
  },
  {
   "cell_type": "code",
   "execution_count": 4,
   "metadata": {
    "collapsed": true,
    "deletable": true,
    "editable": true
   },
   "outputs": [],
   "source": [
    "env = gym.make(env_id)"
   ]
  },
  {
   "cell_type": "code",
   "execution_count": 5,
   "metadata": {
    "collapsed": false,
    "deletable": true,
    "editable": true
   },
   "outputs": [],
   "source": [
    "obs = env.reset()\n",
    "obs, reward, done, info = env.step(0)"
   ]
  },
  {
   "cell_type": "markdown",
   "metadata": {},
   "source": [
    "## Actions"
   ]
  },
  {
   "cell_type": "code",
   "execution_count": 6,
   "metadata": {
    "collapsed": false,
    "deletable": true,
    "editable": true
   },
   "outputs": [
    {
     "name": "stdout",
     "output_type": "stream",
     "text": [
      "ACTION shape: ()\n",
      "Number of ACTIONS: 83\n",
      "Is [83] an ACTION?: False\n",
      "ACTION range from 0 to 82.\n"
     ]
    }
   ],
   "source": [
    "print('ACTION shape: {}'.format(env.action_space.shape))\n",
    "print('Number of ACTIONS: {}'.format(env.action_space.n))\n",
    "# 9x9 + 1 + 1 = 83, 81 moves + pass + resign\n",
    "\n",
    "print('Is [83] an ACTION?: {}'.format(env.action_space.contains(83)))\n",
    "print('ACTION range from 0 to 82.')"
   ]
  },
  {
   "cell_type": "markdown",
   "metadata": {},
   "source": [
    "## Observation"
   ]
  },
  {
   "cell_type": "code",
   "execution_count": 7,
   "metadata": {
    "collapsed": false
   },
   "outputs": [
    {
     "name": "stdout",
     "output_type": "stream",
     "text": [
      "OBSERVATION type: image3c\n",
      "OBSERVATION shape: (3, 9, 9)\n"
     ]
    }
   ],
   "source": [
    "print('OBSERVATION type: {}'.format(env.observation_type))\n",
    "print('OBSERVATION shape: {}'.format(env.observation_space.shape))\n",
    "# looks like 3 channels with height by width"
   ]
  },
  {
   "cell_type": "markdown",
   "metadata": {},
   "source": [
    "## Making the Environment\n",
    "\n",
    "[Github Souec Code](https://github.com/openai/gym/blob/master/gym/envs/board_game/go.py)\n",
    "\n",
    "``` python \n",
    "class GoEnv(gym.Env):\n",
    "    '''\n",
    "    Go environment. Play against a fixed opponent.\n",
    "    '''\n",
    "    metadata = {\"render.modes\": [\"human\", \"ansi\"]}\n",
    "\n",
    "    def __init__(self, player_color, opponent, observation_type, illegal_move_mode, board_size):\n",
    "        \"\"\"\n",
    "        Args:\n",
    "            player_color: Stone color for the agent. Either 'black' or 'white'\n",
    "            opponent: An opponent policy\n",
    "            observation_type: State encoding\n",
    "            illegal_move_mode: What to do when the agent makes an illegal move. Choices: 'raise' or 'lose'\n",
    "        \"\"\"\n",
    "\n",
    "```"
   ]
  },
  {
   "cell_type": "markdown",
   "metadata": {},
   "source": [
    "## Environment Details"
   ]
  },
  {
   "cell_type": "code",
   "execution_count": 8,
   "metadata": {
    "collapsed": true
   },
   "outputs": [],
   "source": [
    "def reset(env):\n",
    "    ob = env.reset()\n",
    "    env.seed(SEED)\n",
    "    return env, ob"
   ]
  },
  {
   "cell_type": "code",
   "execution_count": 9,
   "metadata": {
    "collapsed": false
   },
   "outputs": [
    {
     "name": "stdout",
     "output_type": "stream",
     "text": [
      "ACTIONS: [44, 47, 64, 67, 67]\n"
     ]
    }
   ],
   "source": [
    "env, ob = reset(env)\n",
    "\n",
    "# play the game for 10 steps\n",
    "actions = []\n",
    "for i in range(10):\n",
    "    a = env.action_space.sample()\n",
    "    actions.append(a)\n",
    "    ob, r, done, info = env.step(a)\n",
    "    if done:\n",
    "        break\n",
    "\n",
    "print('ACTIONS: {}'.format(actions))"
   ]
  },
  {
   "cell_type": "code",
   "execution_count": 10,
   "metadata": {
    "collapsed": false
   },
   "outputs": [
    {
     "name": "stdout",
     "output_type": "stream",
     "text": [
      "Black Stones: [4 8][5 2][7 1][7 4]\n",
      "Black Board\n",
      "[[0 0 0 0 0 0 0 0 0]\n",
      " [0 0 0 0 0 0 0 0 0]\n",
      " [0 0 0 0 0 0 0 0 0]\n",
      " [0 0 0 0 0 0 0 0 0]\n",
      " [0 0 0 0 0 0 0 0 1]\n",
      " [0 0 1 0 0 0 0 0 0]\n",
      " [0 0 0 0 0 0 0 0 0]\n",
      " [0 1 0 0 1 0 0 0 0]\n",
      " [0 0 0 0 0 0 0 0 0]]\n"
     ]
    }
   ],
   "source": [
    "black = env.state.board.black_stones\n",
    "print('Black Stones: ', end='')\n",
    "for c in black:\n",
    "    print(c, end='')\n",
    "print('')\n",
    "print('Black Board')\n",
    "print(ob[0])"
   ]
  },
  {
   "cell_type": "code",
   "execution_count": 11,
   "metadata": {
    "collapsed": false,
    "scrolled": false
   },
   "outputs": [
    {
     "name": "stdout",
     "output_type": "stream",
     "text": [
      "To play: black\n",
      "Move:   8  Komi: 0.0  Handicap: 0  Captures B: 0 W: 0\n",
      "      A B C D E F G H J  \n",
      "    +-------------------+\n",
      "  9 | . . . . . . . . . |\n",
      "  8 | . . . . . . . . . |\n",
      "  7 | . . O). . . . . . |\n",
      "  6 | . . . . . . . O . |\n",
      "  5 | . . . . . . . O X |\n",
      "  4 | . . X . . . . O . |\n",
      "  3 | . . . . . . . . . |\n",
      "  2 | . X . . X . . . . |\n",
      "  1 | . . . . . . . . . |\n",
      "    +-------------------+\n"
     ]
    },
    {
     "data": {
      "image/png": "[encoded data removed]",
      "text/plain": [
       "<matplotlib.figure.Figure at 0x7f2359876588>"
      ]
     },
     "metadata": {},
     "output_type": "display_data"
    }
   ],
   "source": [
    "def see_board(env):\n",
    "    white = env.state.board.white_stones\n",
    "    black = env.state.board.black_stones\n",
    "    \n",
    "    fig = plt.figure(figsize=(6, 6))\n",
    "    wy, wx = zip(*white)\n",
    "    by, bx = zip(*black)\n",
    "    plt.scatter(wx, wy, c='y', marker='o', s=1000)\n",
    "    plt.scatter(bx, by, c='k', marker='o', s=1000)\n",
    "    plt.grid()\n",
    "    plt.axis('equal')\n",
    "    lim = plt.axis([0, 9, 0, 9])\n",
    "    plt.gca().invert_yaxis()\n",
    "\n",
    "env.render()\n",
    "see_board(env)"
   ]
  },
  {
   "cell_type": "code",
   "execution_count": 12,
   "metadata": {
    "collapsed": false
   },
   "outputs": [
    {
     "data": {
      "text/plain": [
       "pachi_py.cypachi.PyPachiBoard"
      ]
     },
     "execution_count": 12,
     "metadata": {},
     "output_type": "execute_result"
    }
   ],
   "source": [
    "type(env.state.board)\n",
    "# Looks like gym uses pachi_py\n",
    "# Could be interesting to investigate, maybe for another time"
   ]
  }
 ],
 "metadata": {
  "kernelspec": {
   "display_name": "Python 3",
   "language": "python",
   "name": "python3"
  },
  "language_info": {
   "codemirror_mode": {
    "name": "ipython",
    "version": 3
   },
   "file_extension": ".py",
   "mimetype": "text/x-python",
   "name": "python",
   "nbconvert_exporter": "python",
   "pygments_lexer": "ipython3",
   "version": "3.5.2"
  }
 },
 "nbformat": 4,
 "nbformat_minor": 2
}
