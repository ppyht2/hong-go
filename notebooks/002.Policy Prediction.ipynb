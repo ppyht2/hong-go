{
 "cells": [
  {
   "cell_type": "markdown",
   "metadata": {
    "deletable": true,
    "editable": true
   },
   "source": [
    "# Policy Prediction"
   ]
  },
  {
   "cell_type": "markdown",
   "metadata": {
    "deletable": true,
    "editable": true
   },
   "source": [
    "Gym environment uses pachi-py as the AI.\n",
    "\n",
    "* Can we predict the the AI move from pachi?\n",
    "* If so, can we used this to narrow down our MCTS search?\n",
    "\n",
    "Assume:\n",
    "* The game grid is 9x9\n",
    "* There are only 9^2+1 moves. Resign terminals the episode. "
   ]
  },
  {
   "cell_type": "code",
   "execution_count": 1,
   "metadata": {
    "collapsed": false,
    "deletable": true,
    "editable": true
   },
   "outputs": [],
   "source": [
    "import gym\n",
    "import numpy as np\n",
    "import pachi_py\n",
    "import time\n",
    "import six\n",
    "import os\n",
    "import threading\n",
    "\n",
    "import tensorflow as tf\n",
    "\n",
    "from gym.envs.board_game.go import _coord_to_action, GoState, _action_to_coord\n",
    "\n",
    "ENV_ID = 'Go9x9-v0'\n",
    "WIDTH = HEIGH = 9\n",
    "SHAPE = (WIDTH, HEIGH)\n",
    "# Action 82 is resign"
   ]
  },
  {
   "cell_type": "code",
   "execution_count": 2,
   "metadata": {
    "collapsed": false,
    "deletable": true,
    "editable": true
   },
   "outputs": [],
   "source": [
    "def roll_axis(ob):\n",
    "    \"\"\" Change observations from CxHxW to HxWxC\"\"\"\n",
    "    ob = np.swapaxes(ob, 0, 1)\n",
    "    ob = np.swapaxes(ob, 1, 2)\n",
    "    return ob"
   ]
  },
  {
   "cell_type": "code",
   "execution_count": 3,
   "metadata": {
    "collapsed": true,
    "deletable": true,
    "editable": true
   },
   "outputs": [],
   "source": [
    "def get_legal_actions(board, color):\n",
    "    \"\"\" Get the all black legal moves \"\"\"\n",
    "    cs = board.get_legal_coords(color)\n",
    "    a = [_coord_to_action(board, c) for c in cs]\n",
    "    return a"
   ]
  },
  {
   "cell_type": "code",
   "execution_count": 4,
   "metadata": {
    "collapsed": true,
    "deletable": true,
    "editable": true
   },
   "outputs": [],
   "source": [
    "def make_pachi_policy(board, engine_type='uct', threads=1, pachi_timestr=''):\n",
    "    engine = pachi_py.PyPachiEngine(board, engine_type, six.b('threads=%d' % threads))\n",
    "\n",
    "    def pachi_policy(curr_state, prev_state, prev_action):\n",
    "        if prev_state is not None:\n",
    "            assert engine.curr_board == prev_state.board, 'Engine internal board is inconsistent with provided board. The Pachi engine must be called consistently as the game progresses.'\n",
    "            prev_coord = _action_to_coord(prev_state.board, prev_action)\n",
    "            engine.notify(prev_coord, prev_state.color)\n",
    "            engine.curr_board.play_inplace(prev_coord, prev_state.color)\n",
    "        out_coord = engine.genmove(curr_state.color, pachi_timestr)\n",
    "        out_action = _coord_to_action(curr_state.board, out_coord)\n",
    "        engine.curr_board.play_inplace(out_coord, curr_state.color)\n",
    "        return out_action\n",
    "\n",
    "    return pachi_policy"
   ]
  },
  {
   "cell_type": "code",
   "execution_count": 6,
   "metadata": {
    "collapsed": false,
    "deletable": true,
    "editable": true
   },
   "outputs": [],
   "source": [
    "def sim_game(player):\n",
    "    assert player in (pachi_py.BLACK, pachi_py.WHITE)\n",
    "    enemy = pachi_py.stone_other(player)\n",
    "\n",
    "    ob = []\n",
    "    a = []\n",
    "\n",
    "    state = GoState(pachi_py.CreateBoard(9), pachi_py.BLACK)\n",
    "    player_policy = make_pachi_policy(board=state.board.clone(\n",
    "    ), engine_type=six.b('uct'), pachi_timestr=six.b('_2400'))\n",
    "\n",
    "    last_enemy_action = None\n",
    "    last_state = None\n",
    "\n",
    "    while not state.board.is_terminal:\n",
    "        if state.color == player:\n",
    "            ob.append(roll_axis(state.board.encode()))\n",
    "            player_action = player_policy(state, last_state, last_enemy_action)\n",
    "            a.append(player_action)\n",
    "            state = state.act(player_action)\n",
    "            assert state.color != player\n",
    "            continue\n",
    "        elif state.color == enemy:\n",
    "            legal_actions = get_legal_actions(state.board, enemy)\n",
    "            last_enemy_action = np.random.choice(legal_actions)\n",
    "            last_state = state\n",
    "            state = state.act(last_enemy_action)\n",
    "            continue\n",
    "        else:\n",
    "            raise NotImplementedError\n",
    "\n",
    "    return ob, a, [player-1 for _ in a]"
   ]
  },
  {
   "cell_type": "code",
   "execution_count": 7,
   "metadata": {
    "collapsed": true,
    "deletable": true,
    "editable": true
   },
   "outputs": [],
   "source": [
    "def sim_batch(n):\n",
    "    \"\"\" Randomly Simulate n number of games \"\"\"\n",
    "    ob_batch = []\n",
    "    a_batch = []\n",
    "    p_batch = []\n",
    "    for i in range(n):\n",
    "        p = np.random.choice((pachi_py.BLACK, pachi_py.WHITE))\n",
    "        ob, a, p = sim_game(p)\n",
    "        ob_batch += ob\n",
    "        a_batch += a\n",
    "        p_batch += p\n",
    "    ob_batch = np.stack(ob_batch)\n",
    "    a_batch = np.stack(a_batch)\n",
    "    p_batch = np.stack(p_batch).reshape((-1, 1))\n",
    "    \n",
    "    return ob_batch, a_batch, p_batch"
   ]
  },
  {
   "cell_type": "markdown",
   "metadata": {
    "deletable": true,
    "editable": true
   },
   "source": [
    "# Simulate a few games"
   ]
  },
  {
   "cell_type": "code",
   "execution_count": 8,
   "metadata": {
    "collapsed": false,
    "deletable": true,
    "editable": true
   },
   "outputs": [
    {
     "name": "stdout",
     "output_type": "stream",
     "text": [
      "67.13176774978638\n",
      "Total: 67.13s 10.11ms per step\n"
     ]
    }
   ],
   "source": [
    "tic = time.time()\n",
    "ob_batch, a_batch, p_batch = sim_batch(20)\n",
    "toc = time.time() - tic\n",
    "s = ob_batch.shape[0]\n",
    "print(toc)\n",
    "print('Total: {:.2f}s {:.2f}ms per step'.format(toc, 100*toc/s))\n",
    "ob_test, a_test, p_test = sim_batch(4)"
   ]
  },
  {
   "cell_type": "code",
   "execution_count": 10,
   "metadata": {
    "collapsed": false
   },
   "outputs": [
    {
     "name": "stdout",
     "output_type": "stream",
     "text": [
      "6.456079006195068\n",
      "Total: 6.46s 10.09ms per step\n"
     ]
    }
   ],
   "source": [
    "tic = time.time()\n",
    "ob_batch, a_batch, p_batch = sim_batch(2)\n",
    "toc = time.time() - tic\n",
    "s = ob_batch.shape[0]\n",
    "print(toc)\n",
    "print('Total: {:.2f}s {:.2f}ms per step'.format(toc, 100*toc/s))\n",
    "# for 1000 training loops this will take 100 minutes\n",
    "# might have to generate data first to save on training time"
   ]
  },
  {
   "cell_type": "code",
   "execution_count": 9,
   "metadata": {
    "collapsed": false,
    "deletable": true,
    "editable": true
   },
   "outputs": [
    {
     "name": "stdout",
     "output_type": "stream",
     "text": [
      "(664, 9, 9, 3)\n",
      "(664,)\n",
      "(664, 1)\n"
     ]
    }
   ],
   "source": [
    "print(ob_batch.shape)\n",
    "print(a_batch.shape)\n",
    "print(p_batch.shape)"
   ]
  },
  {
   "cell_type": "markdown",
   "metadata": {
    "collapsed": true,
    "deletable": true,
    "editable": true
   },
   "source": [
    "# TensorFlow"
   ]
  },
  {
   "cell_type": "code",
   "execution_count": 9,
   "metadata": {
    "collapsed": false,
    "deletable": true,
    "editable": true
   },
   "outputs": [],
   "source": [
    "N_CHANNELS = 3\n",
    "\n",
    "tf.reset_default_graph()\n",
    "\n",
    "global_step = tf.Variable(0, trainable=False)\n",
    "\n",
    "ob_ph = tf.placeholder(tf.float32, [None, WIDTH, HEIGH, N_CHANNELS])\n",
    "p_ph = tf.placeholder(tf.float32, [None, 1])\n",
    "a_ph = tf.placeholder(tf.int64, [None])\n",
    "\n",
    "player_channel = p_ph * tf.ones([1, HEIGH], dtype=tf.float32)\n",
    "player_channel = tf.expand_dims(player_channel, -1)\n",
    "player_channel = player_channel * tf.ones([1, HEIGH, WIDTH], dtype=tf.float32)\n",
    "player_channel = tf.expand_dims(player_channel, -1)\n",
    "\n",
    "obp = tf.concat((ob_ph, player_channel), 3)\n",
    "\n",
    "conv_1 = tf.layers.conv2d(obp, filters=256, kernel_size=3, activation=tf.nn.relu)\n",
    "conv_2 = tf.layers.conv2d(conv_1, filters=2, kernel_size=1, activation=tf.nn.relu)\n",
    "conv_2_flat = tf.layers.flatten(conv_2)\n",
    "pi = tf.layers.dense(conv_2_flat, 9*9+1, activation=tf.nn.relu)\n",
    "\n",
    "\n",
    "a_pred = tf.argmax(pi, axis=1)\n",
    "metric_accuracy, accuracy_op = tf.metrics.accuracy(a_ph, a_pred)\n",
    "tf.summary.scalar('metric_accuracy', accuracy_op)\n",
    "\n",
    "correct_pred = tf.equal(tf.argmax(pi,1), a_ph)\n",
    "accuracy = tf.reduce_mean(tf.cast(correct_pred, tf.float32))\n",
    "tf.summary.scalar('classification_accuracy', accuracy)\n",
    "\n",
    "obj = tf.nn.sparse_softmax_cross_entropy_with_logits(logits=pi, labels=a_ph)\n",
    "pg_loss = tf.reduce_mean(obj)\n",
    "\n",
    "tf.summary.scalar('policy_loss', pg_loss)\n",
    "tf.summary.scalar('global_step', global_step)\n",
    "\n",
    "optimiser = tf.train.AdamOptimizer(1e-4)\n",
    "train_op = optimiser.minimize(pg_loss, global_step=global_step)\n",
    "\n",
    "merged_summary = tf.summary.merge_all()\n",
    "global_init_op = tf.global_variables_initializer()\n",
    "local_init_op = tf.local_variables_initializer()"
   ]
  },
  {
   "cell_type": "code",
   "execution_count": 10,
   "metadata": {
    "collapsed": false,
    "deletable": true,
    "editable": true
   },
   "outputs": [],
   "source": [
    "tb_path = 'tb'\n",
    "session_id = time.strftime('%m-%dT%H-%M-%S')\n",
    "train_tb = os.path.join(tb_path,session_id, 'TRAIN')\n",
    "train_writer = tf.summary.FileWriter(train_tb)\n",
    "\n",
    "test_tb = os.path.join(tb_path,session_id, 'TEST')\n",
    "test_writer = tf.summary.FileWriter(test_tb)\n",
    "\n",
    "default_dict = {ob_ph:ob_batch, p_ph: p_batch, a_ph:a_batch}\n",
    "test_dict = {ob_ph:ob_test, p_ph: p_test, a_ph:a_test}\n",
    "\n",
    "def record_tb():\n",
    "    _, train_summary, gs = sess.run([accuracy_op, merged_summary, global_step], feed_dict=default_dict)\n",
    "    train_writer.add_summary(train_summary, gs)\n",
    "            \n",
    "    _, test_summary, gs = sess.run([accuracy_op, merged_summary, global_step], feed_dict=test_dict)\n",
    "    test_writer.add_summary(test_summary, gs)\n",
    "\n",
    "\n",
    "sess = tf.InteractiveSession()\n",
    "train_writer.add_graph(sess.graph)\n",
    "global_init_op.run()\n",
    "local_init_op.run()\n",
    "\n",
    "record_tb()\n",
    "\n",
    "for i in range(20):\n",
    "    for j in range(50):\n",
    "        train_op.run(feed_dict=default_dict)\n",
    "    \n",
    "    record_tb()\n",
    "        \n",
    "train_writer.close()       \n",
    "test_writer.close()"
   ]
  },
  {
   "cell_type": "markdown",
   "metadata": {
    "deletable": true,
    "editable": true
   },
   "source": [
    "# Test Accuracy"
   ]
  },
  {
   "cell_type": "code",
   "execution_count": 11,
   "metadata": {
    "collapsed": false,
    "deletable": true,
    "editable": true
   },
   "outputs": [
    {
     "name": "stdout",
     "output_type": "stream",
     "text": [
      "Test Accuracy: 1.30%\n"
     ]
    }
   ],
   "source": [
    "test_pi = pi.eval(feed_dict=test_dict)\n",
    "test_pred = np.argmax(test_pi, axis=1)\n",
    "correct = np.equal(test_pred, a_test).astype(np.int32)\n",
    "accuracy = np.mean(correct)\n",
    "print('Test Accuracy: {:.2f}%'.format(100*accuracy))"
   ]
  },
  {
   "cell_type": "markdown",
   "metadata": {},
   "source": [
    "# Others"
   ]
  },
  {
   "cell_type": "markdown",
   "metadata": {},
   "source": [
    "Can we make this process faster? How about multi-threading?\n",
    "\n",
    "This does not improve the performance since pachi is already multi-threaded\n",
    "\n",
    "``` python\n",
    "class GameRunner(threading.Thread):\n",
    "    def __init__(self, n):\n",
    "        threading.Thread.__init__(self)\n",
    "        self.n = n\n",
    "        self.reset()\n",
    "        \n",
    "    def reset(self):\n",
    "        self.done = False\n",
    "        self.result = None\n",
    "        \n",
    "    def run(self):\n",
    "        self.ans = sim_batch(self.n)\n",
    "        \n",
    "runner = GameRunner(3)\n",
    "tic = time.time()\n",
    "\n",
    "runners = [GameRunner(2) for _ in range(3)]\n",
    "for r in runners:\n",
    "    r.start()\n",
    "    \n",
    "for i in runners:\n",
    "    r.join()\n",
    "    \n",
    "s = 0\n",
    "for r in runners:\n",
    "    s += r.ans[0].shape[0]\n",
    "    \n",
    "toc = time.time() - tic\n",
    "print('Total: {:.2f}s {:.2f}ms per step'.format(toc, 100*toc/s))\n",
    "```"
   ]
  }
 ],
 "metadata": {
  "kernelspec": {
   "display_name": "Python 3",
   "language": "python",
   "name": "python3"
  },
  "language_info": {
   "codemirror_mode": {
    "name": "ipython",
    "version": 3
   },
   "file_extension": ".py",
   "mimetype": "text/x-python",
   "name": "python",
   "nbconvert_exporter": "python",
   "pygments_lexer": "ipython3",
   "version": "3.5.2"
  }
 },
 "nbformat": 4,
 "nbformat_minor": 2
}
