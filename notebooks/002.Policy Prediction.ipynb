{
 "cells": [
  {
   "cell_type": "markdown",
   "metadata": {
    "deletable": true,
    "editable": true
   },
   "source": [
    "# Policy Prediction"
   ]
  },
  {
   "cell_type": "markdown",
   "metadata": {
    "deletable": true,
    "editable": true
   },
   "source": [
    "Gym environment uses pachi-py as the AI.\n",
    "\n",
    "* Can we predict the the AI move from pachi?\n",
    "* If so, can we used this to narrow down our MCTS search?\n",
    "\n",
    "Assume:\n",
    "* The game grid is 9x9\n",
    "* There are only 9^2+1 moves. Resign terminals the episode. "
   ]
  },
  {
   "cell_type": "code",
   "execution_count": 1,
   "metadata": {
    "collapsed": false,
    "deletable": true,
    "editable": true
   },
   "outputs": [],
   "source": [
    "import gym\n",
    "import numpy as np\n",
    "import pachi_py\n",
    "import time\n",
    "import six\n",
    "\n",
    "import tensorflow as tf\n",
    "\n",
    "from gym.envs.board_game.go import _coord_to_action, GoState, _action_to_coord\n",
    "\n",
    "ENV_ID = 'Go9x9-v0'\n",
    "WIDTH = HEIGH = 9\n",
    "SHAPE = (WIDTH, HEIGH)\n",
    "# Action 82 is resign"
   ]
  },
  {
   "cell_type": "code",
   "execution_count": 2,
   "metadata": {
    "collapsed": false,
    "deletable": true,
    "editable": true
   },
   "outputs": [],
   "source": [
    "def roll_axis(ob):\n",
    "    \"\"\" Change observations from CxHxW to HxWxC\"\"\"\n",
    "    ob = np.swapaxes(ob, 0, 1)\n",
    "    ob = np.swapaxes(ob, 1, 2)\n",
    "    return ob"
   ]
  },
  {
   "cell_type": "code",
   "execution_count": 3,
   "metadata": {
    "collapsed": true,
    "deletable": true,
    "editable": true
   },
   "outputs": [],
   "source": [
    "def get_legal_actions(board, color):\n",
    "    \"\"\" Get the all black legal moves \"\"\"\n",
    "    cs = board.get_legal_coords(color)\n",
    "    a = [_coord_to_action(board, c) for c in cs]\n",
    "    return a"
   ]
  },
  {
   "cell_type": "code",
   "execution_count": 4,
   "metadata": {
    "collapsed": false,
    "deletable": true,
    "editable": true
   },
   "outputs": [],
   "source": [
    "def get_color_channel(color):\n",
    "    assert color in (pachi_py.BLACK, pachi_py.WHITE)\n",
    "    if color == pachi_py.BLACK:\n",
    "        return np.zeros(SHAPE, dtype=np.int8)\n",
    "    else:\n",
    "        return np.ones(SHAPE, dtype=np.int8)"
   ]
  },
  {
   "cell_type": "code",
   "execution_count": 5,
   "metadata": {
    "collapsed": true,
    "deletable": true,
    "editable": true
   },
   "outputs": [],
   "source": [
    "def make_pachi_policy(board, engine_type='uct', threads=1, pachi_timestr=''):\n",
    "    engine = pachi_py.PyPachiEngine(board, engine_type, six.b('threads=%d' % threads))\n",
    "\n",
    "    def pachi_policy(curr_state, prev_state, prev_action):\n",
    "        if prev_state is not None:\n",
    "            assert engine.curr_board == prev_state.board, 'Engine internal board is inconsistent with provided board. The Pachi engine must be called consistently as the game progresses.'\n",
    "            prev_coord = _action_to_coord(prev_state.board, prev_action)\n",
    "            engine.notify(prev_coord, prev_state.color)\n",
    "            engine.curr_board.play_inplace(prev_coord, prev_state.color)\n",
    "        out_coord = engine.genmove(curr_state.color, pachi_timestr)\n",
    "        out_action = _coord_to_action(curr_state.board, out_coord)\n",
    "        engine.curr_board.play_inplace(out_coord, curr_state.color)\n",
    "        return out_action\n",
    "\n",
    "    return pachi_policy"
   ]
  },
  {
   "cell_type": "code",
   "execution_count": 6,
   "metadata": {
    "collapsed": false,
    "deletable": true,
    "editable": true
   },
   "outputs": [],
   "source": [
    "def sim_game(player):\n",
    "    assert player in (pachi_py.BLACK, pachi_py.WHITE)\n",
    "    enemy = pachi_py.stone_other(player)\n",
    "\n",
    "    ob = []\n",
    "    a = []\n",
    "\n",
    "    state = GoState(pachi_py.CreateBoard(9), pachi_py.BLACK)\n",
    "    player_policy = make_pachi_policy(board=state.board.clone(\n",
    "    ), engine_type=six.b('uct'), pachi_timestr=six.b('_2400'))\n",
    "\n",
    "    last_enemy_action = None\n",
    "    last_state = None\n",
    "\n",
    "    while not state.board.is_terminal:\n",
    "        if state.color == player:\n",
    "            ob.append(roll_axis(state.board.encode()))\n",
    "            player_action = player_policy(state, last_state, last_enemy_action)\n",
    "            a.append(player_action)\n",
    "            state = state.act(player_action)\n",
    "            assert state.color != player\n",
    "            continue\n",
    "        elif state.color == enemy:\n",
    "            legal_actions = get_legal_actions(state.board, enemy)\n",
    "            last_enemy_action = np.random.choice(legal_actions)\n",
    "            last_state = state\n",
    "            state = state.act(last_enemy_action)\n",
    "            continue\n",
    "        else:\n",
    "            raise NotImplementedError\n",
    "\n",
    "    return ob, a, [player-1 for _ in a]"
   ]
  },
  {
   "cell_type": "markdown",
   "metadata": {
    "deletable": true,
    "editable": true
   },
   "source": [
    "# Simulate 10 Games"
   ]
  },
  {
   "cell_type": "code",
   "execution_count": 8,
   "metadata": {
    "collapsed": false,
    "deletable": true,
    "editable": true
   },
   "outputs": [
    {
     "name": "stdout",
     "output_type": "stream",
     "text": [
      "10.596940994262695\n"
     ]
    }
   ],
   "source": [
    "ob_batch = []\n",
    "a_batch = []\n",
    "p_batch = []\n",
    "\n",
    "tic = time.time()\n",
    "for i in range(3):\n",
    "    p = np.random.choice((pachi_py.BLACK, pachi_py.WHITE))\n",
    "    ob, a, p = sim_game(p)\n",
    "    ob_batch += ob\n",
    "    a_batch += a\n",
    "    p_batch += p\n",
    "toc = time.time() - tic\n",
    "print(toc)\n"
   ]
  },
  {
   "cell_type": "code",
   "execution_count": 9,
   "metadata": {
    "collapsed": true,
    "deletable": true,
    "editable": true
   },
   "outputs": [],
   "source": [
    "ob_batch = np.stack(ob_batch)\n",
    "a_batch = np.stack(a_batch)\n",
    "p_batch = np.stack(p_batch).reshape((-1, 1))"
   ]
  },
  {
   "cell_type": "code",
   "execution_count": 12,
   "metadata": {
    "collapsed": false
   },
   "outputs": [
    {
     "name": "stdout",
     "output_type": "stream",
     "text": [
      "(105, 9, 9, 3)\n",
      "(105,)\n",
      "(105, 1)\n"
     ]
    }
   ],
   "source": [
    "print(ob_batch.shape)\n",
    "print(a_batch.shape)\n",
    "print(p_batch.shape)"
   ]
  },
  {
   "cell_type": "markdown",
   "metadata": {
    "collapsed": true,
    "deletable": true,
    "editable": true
   },
   "source": [
    "# TensorFlow"
   ]
  },
  {
   "cell_type": "code",
   "execution_count": 62,
   "metadata": {
    "collapsed": false,
    "deletable": true,
    "editable": true
   },
   "outputs": [],
   "source": [
    "N_CHANNELS = 3\n",
    "\n",
    "tf.reset_default_graph()\n",
    "\n",
    "\n",
    "ob_ph = tf.placeholder(tf.float32, [None, WIDTH, HEIGH, N_CHANNELS])\n",
    "p_ph = tf.placeholder(tf.float32, [None, 1])\n",
    "a_ph = tf.placeholder(tf.int32, [None])\n",
    "\n",
    "player_channel = p_ph * tf.ones([1, HEIGH], dtype=tf.float32)\n",
    "player_channel = tf.expand_dims(player_channel, -1)\n",
    "player_channel = player_channel * tf.ones([1, HEIGH, WIDTH], dtype=tf.float32)\n",
    "player_channel = tf.expand_dims(player_channel, -1)\n",
    "\n",
    "obp = tf.concat((ob_ph, player_channel), 3)\n",
    "\n",
    "conv_1 = tf.layers.conv2d(obp, filters=256, kernel_size=3, activation=tf.nn.relu)\n",
    "conv_2 = tf.layers.conv2d(conv_1, filters=2, kernel_size=1, activation=tf.nn.relu)\n",
    "conv_2_flat = tf.layers.flatten(conv_2)\n",
    "pi = tf.layers.dense(conv_2_flat, 9*9+1, activation=tf.nn.relu)\n",
    "\n",
    "obj = tf.nn.sparse_softmax_cross_entropy_with_logits(logits=pi, labels=a_ph)\n",
    "pg_loss = tf.reduce_mean(obj)\n",
    "\n",
    "optimiser = tf.train.AdamOptimizer(1e-4)\n",
    "train_op = optimiser.minimize(pg_loss)\n",
    "\n",
    "init_op = tf.global_variables_initializer()"
   ]
  },
  {
   "cell_type": "code",
   "execution_count": 63,
   "metadata": {
    "collapsed": false,
    "deletable": true,
    "editable": true
   },
   "outputs": [],
   "source": [
    "with tf.Session() as sess:\n",
    "    init_op.run()\n",
    "    sess.run(train_op, feed_dict={ob_ph:ob_batch, p_ph:p_batch, a_ph:a_batch})"
   ]
  },
  {
   "cell_type": "code",
   "execution_count": 39,
   "metadata": {
    "collapsed": false
   },
   "outputs": [
    {
     "data": {
      "text/plain": [
       "array([[ 1.,  1.,  1.,  1.,  1.,  1.,  1.,  1.,  1.],\n",
       "       [ 1.,  1.,  1.,  1.,  1.,  1.,  1.,  1.,  1.],\n",
       "       [ 1.,  1.,  1.,  1.,  1.,  1.,  1.,  1.,  1.],\n",
       "       [ 1.,  1.,  1.,  1.,  1.,  1.,  1.,  1.,  1.],\n",
       "       [ 1.,  1.,  1.,  1.,  1.,  1.,  1.,  1.,  1.],\n",
       "       [ 1.,  1.,  1.,  1.,  1.,  1.,  1.,  1.,  1.],\n",
       "       [ 1.,  1.,  1.,  1.,  1.,  1.,  1.,  1.,  1.],\n",
       "       [ 1.,  1.,  1.,  1.,  1.,  1.,  1.,  1.,  1.],\n",
       "       [ 1.,  1.,  1.,  1.,  1.,  1.,  1.,  1.,  1.]], dtype=float32)"
      ]
     },
     "execution_count": 39,
     "metadata": {},
     "output_type": "execute_result"
    }
   ],
   "source": [
    "c[0, :, :, 3]"
   ]
  },
  {
   "cell_type": "code",
   "execution_count": 32,
   "metadata": {
    "collapsed": false
   },
   "outputs": [
    {
     "data": {
      "text/plain": [
       "array([[0, 0, 0, 0, 0, 0, 0, 0, 0],\n",
       "       [0, 0, 0, 0, 0, 0, 0, 0, 0],\n",
       "       [0, 0, 0, 0, 0, 0, 0, 0, 0],\n",
       "       [0, 0, 0, 0, 0, 0, 0, 0, 0],\n",
       "       [0, 0, 0, 0, 0, 0, 0, 0, 0],\n",
       "       [0, 0, 0, 0, 0, 0, 0, 0, 0],\n",
       "       [0, 0, 0, 0, 0, 1, 0, 0, 0],\n",
       "       [0, 0, 0, 0, 0, 0, 0, 0, 0],\n",
       "       [0, 0, 0, 0, 0, 0, 0, 0, 0]])"
      ]
     },
     "execution_count": 32,
     "metadata": {},
     "output_type": "execute_result"
    }
   ],
   "source": [
    "ob_batch[0, :, :, 0]"
   ]
  },
  {
   "cell_type": "code",
   "execution_count": 40,
   "metadata": {
    "collapsed": false
   },
   "outputs": [
    {
     "data": {
      "text/plain": [
       "array([1])"
      ]
     },
     "execution_count": 40,
     "metadata": {},
     "output_type": "execute_result"
    }
   ],
   "source": [
    "p_batch[0]"
   ]
  },
  {
   "cell_type": "code",
   "execution_count": 99,
   "metadata": {
    "collapsed": false,
    "deletable": true,
    "editable": true
   },
   "outputs": [],
   "source": [
    "for i, v in enumerate(players):\n",
    "    p = v[0]\n",
    "    cp = np.unique(c[i])\n",
    "    assert c[i].shape == (9, 9)\n",
    "    assert p==cp\n",
    "    break"
   ]
  },
  {
   "cell_type": "code",
   "execution_count": 53,
   "metadata": {
    "collapsed": false,
    "deletable": true,
    "editable": true
   },
   "outputs": [
    {
     "data": {
      "text/plain": [
       "(316,)"
      ]
     },
     "execution_count": 53,
     "metadata": {},
     "output_type": "execute_result"
    }
   ],
   "source": [
    "p.shape"
   ]
  }
 ],
 "metadata": {
  "kernelspec": {
   "display_name": "Python 3",
   "language": "python",
   "name": "python3"
  },
  "language_info": {
   "codemirror_mode": {
    "name": "ipython",
    "version": 3
   },
   "file_extension": ".py",
   "mimetype": "text/x-python",
   "name": "python",
   "nbconvert_exporter": "python",
   "pygments_lexer": "ipython3",
   "version": "3.5.2"
  }
 },
 "nbformat": 4,
 "nbformat_minor": 2
}
