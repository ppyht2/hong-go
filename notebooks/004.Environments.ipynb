{
 "cells": [
  {
   "cell_type": "code",
   "execution_count": 34,
   "metadata": {
    "collapsed": true,
    "deletable": true,
    "editable": true
   },
   "outputs": [],
   "source": [
    "import pachi_py\n",
    "import numpy as np\n",
    "from gym.envs.board_game.go import _coord_to_action, GoState, _action_to_coord"
   ]
  },
  {
   "cell_type": "markdown",
   "metadata": {
    "deletable": true,
    "editable": true
   },
   "source": [
    "# https://github.com/openai/gym/blob/go/gym/envs/board_game/go.py"
   ]
  },
  {
   "cell_type": "code",
   "execution_count": 41,
   "metadata": {},
   "outputs": [
    {
     "data": {
      "text/plain": [
       "5"
      ]
     },
     "execution_count": 41,
     "metadata": {},
     "output_type": "execute_result"
    }
   ],
   "source": [
    "np.random.choice([1,2,3,4,5])"
   ]
  },
  {
   "cell_type": "code",
   "execution_count": 57,
   "metadata": {},
   "outputs": [],
   "source": [
    "class Player():\n",
    "    def __init__(self, colour):\n",
    "        self.colour = colour\n",
    "        \n",
    "    def act(self, state):\n",
    "        assert state.color == self.colour\n",
    "        la = self.get_legal_actions(state.board, self.colour)\n",
    "        a = np.random.choice(la)\n",
    "        return a\n",
    "        \n",
    "    def get_legal_actions(self, board, color):\n",
    "        cs = board.get_legal_coords(color)\n",
    "        a = [_coord_to_action(board, c) for c in cs]\n",
    "        return a"
   ]
  },
  {
   "cell_type": "code",
   "execution_count": 69,
   "metadata": {
    "collapsed": true,
    "deletable": true,
    "editable": true
   },
   "outputs": [],
   "source": [
    "class TrainingEnvironment():\n",
    "    \n",
    "    def __init__(self, black_player, white_player):\n",
    "        \n",
    "        self.players = {pachi_py.BLACK: black_player,\n",
    "                        pachi_py.WHITE: white_player}\n",
    "        self.reset()\n",
    "    \n",
    "    def run(self):\n",
    "        while not self.state.board.is_terminal:\n",
    "            action = self.players[self.current_player].act(self.state)\n",
    "            self.state = self.state.act(action)\n",
    "            self.current_player = self.state.color\n",
    "            \n",
    "        print('INFO: Game is terminated. Score: {}'.format(self.state.board.official_score))\n",
    "            \n",
    "    def reset(self):\n",
    "        self.state = GoState(pachi_py.CreateBoard(9), pachi_py.BLACK)\n",
    "        self.current_player = pachi_py.BLACK"
   ]
  },
  {
   "cell_type": "code",
   "execution_count": 70,
   "metadata": {},
   "outputs": [],
   "source": [
    "black = Player(pachi_py.BLACK)\n",
    "white = Player(pachi_py.WHITE)\n",
    "env = TrainingEnvironment(black, white)"
   ]
  },
  {
   "cell_type": "code",
   "execution_count": 71,
   "metadata": {},
   "outputs": [
    {
     "name": "stdout",
     "output_type": "stream",
     "text": [
      "INFO: Game is terminated. Score: 48.0\n"
     ]
    }
   ],
   "source": [
    "env.run()"
   ]
  },
  {
   "cell_type": "code",
   "execution_count": 72,
   "metadata": {
    "collapsed": false,
    "deletable": true,
    "editable": true
   },
   "outputs": [
    {
     "data": {
      "text/plain": [
       "To play: black\n",
       "Move:  147  Komi: 0.0  Handicap: 0  Captures B: 12 W: 57\n",
       "      A B C D E F G H J  \n",
       "    +-------------------+\n",
       "  9 | O O O O O O O O O |\n",
       "  8 | O O O O O O O O O |\n",
       "  7 | O O O O O O O X O |\n",
       "  6 | O O O O O O X X O |\n",
       "  5 | O O O O O O O X O |\n",
       "  4 | O O . O O X X X O |\n",
       "  3 | O O O O O O X X X |\n",
       "  2 | O O O X . X O X . |\n",
       "  1 | O O O O O O O X X |\n",
       "    +-------------------+"
      ]
     },
     "execution_count": 72,
     "metadata": {},
     "output_type": "execute_result"
    }
   ],
   "source": [
    "env.state"
   ]
  },
  {
   "cell_type": "code",
   "execution_count": 68,
   "metadata": {},
   "outputs": [
    {
     "data": {
      "text/plain": [
       "-61.0"
      ]
     },
     "execution_count": 68,
     "metadata": {},
     "output_type": "execute_result"
    }
   ],
   "source": [
    "env.state.board.official_score"
   ]
  },
  {
   "cell_type": "code",
   "execution_count": 51,
   "metadata": {
    "collapsed": true,
    "deletable": true,
    "editable": true
   },
   "outputs": [],
   "source": [
    "import joblib\n",
    "import os\n",
    "import numpy as np\n",
    "import matplotlib.pyplot as plt\n",
    "%matplotlib inline"
   ]
  },
  {
   "cell_type": "code",
   "execution_count": 56,
   "metadata": {
    "collapsed": false
   },
   "outputs": [],
   "source": [
    "file_name = os.path.join('batch', os.listdir('batch')[0])\n",
    "ob, a, p = joblib.load(file_name)"
   ]
  },
  {
   "cell_type": "code",
   "execution_count": 75,
   "metadata": {
    "collapsed": false
   },
   "outputs": [],
   "source": [
    "ob_rot90 = ob.copy()\n",
    "for i, v in enumerate(ob):\n",
    "    ob_rot90[i] = np.rot90(v, axes=(0, 1))\n",
    "    \n",
    "ob_rot180 = ob.copy()\n",
    "for i, v in enumerate(ob_rot90):\n",
    "    ob_rot180[i] = np.rot90(v, axes=(0, 1))\n",
    "    \n",
    "ob_rot270 = ob.copy()\n",
    "for i, v in enumerate(ob_rot270):\n",
    "    ob_rot270[i] = np.rot90(v, axes=(0, 1))    "
   ]
  },
  {
   "cell_type": "code",
   "execution_count": 83,
   "metadata": {
    "collapsed": false
   },
   "outputs": [
    {
     "data": {
      "image/png": "[encoded data removed]",
      "text/plain": [
       "<matplotlib.figure.Figure at 0x7f2f9ffd3198>"
      ]
     },
     "metadata": {},
     "output_type": "display_data"
    }
   ],
   "source": [
    "ind = 36\n",
    "fig, ax = plt.subplots(4, 3, figsize=(12, 14), sharex=True, sharey=True)\n",
    "\n",
    "for i in range(3):\n",
    "    ax[0, i].imshow(ob[ind, :, :, i])\n",
    "    \n",
    "for i in range(3):\n",
    "    ax[1, i].imshow(ob_rot90[ind, :, :, i])    \n",
    "\n",
    "for i in range(3):\n",
    "    ax[2, i].imshow(ob_rot180[ind, :, :, i])    \n",
    "    \n",
    "for i in range(3):\n",
    "    ax[3, i].imshow(ob_rot270[ind, :, :, i])        "
   ]
  },
  {
   "cell_type": "code",
   "execution_count": 93,
   "metadata": {
    "collapsed": false
   },
   "outputs": [],
   "source": [
    "ob_flip = ob.copy()\n",
    "for i, v in enumerate(ob):\n",
    "    ob_flip[i] = np.flip(v, axis=0)\n",
    "    \n",
    "ob_f90 = ob_flip.copy()\n",
    "for i, v in enumerate(ob_flip):\n",
    "    ob_f90[i] = np.rot90(v, axes=(0, 1))\n",
    "    \n",
    "ob_f180 = ob_flip.copy()\n",
    "for i, v in enumerate(ob_f90):\n",
    "    ob_f180[i] = np.rot90(v, axes=(0, 1))\n",
    "    \n",
    "ob_f270 = ob_flip.copy()\n",
    "for i, v in enumerate(ob_f180):\n",
    "    ob_f270[i] = np.rot90(v, axes=(0, 1))    "
   ]
  },
  {
   "cell_type": "code",
   "execution_count": 94,
   "metadata": {
    "collapsed": false
   },
   "outputs": [
    {
     "data": {
      "image/png": "[encoded data removed]",
      "text/plain": [
       "<matplotlib.figure.Figure at 0x7f2f9fa909e8>"
      ]
     },
     "metadata": {},
     "output_type": "display_data"
    }
   ],
   "source": [
    "ind = 36\n",
    "fig, ax = plt.subplots(4, 3, figsize=(12, 14), sharex=True, sharey=True)\n",
    "\n",
    "for i in range(3):\n",
    "    ax[0, i].imshow(ob_flip[ind, :, :, i])\n",
    "    \n",
    "for i in range(3):\n",
    "    ax[1, i].imshow(ob_f90[ind, :, :, i])    \n",
    "\n",
    "for i in range(3):\n",
    "    ax[2, i].imshow(ob_f180[ind, :, :, i])    \n",
    "    \n",
    "for i in range(3):\n",
    "    ax[3, i].imshow(ob_f270[ind, :, :, i])        "
   ]
  },
  {
   "cell_type": "code",
   "execution_count": null,
   "metadata": {
    "collapsed": true
   },
   "outputs": [],
   "source": []
  }
 ],
 "metadata": {
  "kernelspec": {
   "display_name": "Python 3",
   "language": "python",
   "name": "python3"
  },
  "language_info": {
   "codemirror_mode": {
    "name": "ipython",
    "version": 3
   },
   "file_extension": ".py",
   "mimetype": "text/x-python",
   "name": "python",
   "nbconvert_exporter": "python",
   "pygments_lexer": "ipython3",
   "version": "3.5.2"
  }
 },
 "nbformat": 4,
 "nbformat_minor": 2
}
