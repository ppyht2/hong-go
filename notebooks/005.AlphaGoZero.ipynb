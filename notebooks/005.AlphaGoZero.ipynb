{
 "cells": [
  {
   "cell_type": "code",
   "execution_count": 2,
   "metadata": {},
   "outputs": [
    {
     "ename": "SyntaxError",
     "evalue": "invalid syntax (<ipython-input-2-173b049c46c7>, line 2)",
     "output_type": "error",
     "traceback": [
      "\u001b[0;36m  File \u001b[0;32m\"<ipython-input-2-173b049c46c7>\"\u001b[0;36m, line \u001b[0;32m2\u001b[0m\n\u001b[0;31m    from tensorflow import layers.conv2d, layers.batch_normalization, layers.dense, layers.flatten\u001b[0m\n\u001b[0m                                 ^\u001b[0m\n\u001b[0;31mSyntaxError\u001b[0m\u001b[0;31m:\u001b[0m invalid syntax\n"
     ]
    }
   ],
   "source": [
    "import tensorflow as tf\n",
    "from tensorflow import layers.conv2d, layers.batch_normalization, layers.dense, layers.flatten"
   ]
  },
  {
   "cell_type": "code",
   "execution_count": null,
   "metadata": {},
   "outputs": [],
   "source": [
    "from tensorflow."
   ]
  },
  {
   "cell_type": "code",
   "execution_count": 6,
   "metadata": {},
   "outputs": [],
   "source": [
    "n_feature = 3 # AGZ: 17\n",
    "n_filter = 128 # AGZ: 256\n",
    "n = 9 # game size\n",
    "n_res = 6\n",
    "n_actions = 82"
   ]
  },
  {
   "cell_type": "code",
   "execution_count": 3,
   "metadata": {},
   "outputs": [],
   "source": [
    "def residual_block(inputs):\n",
    "    c1 = tf.layers.conv2d(inputs, filters=n_filter, kernel_size=3, padding='SAME')\n",
    "    b1 = tf.layers.batch_normalization(c1)\n",
    "    h1 = tf.nn.relu(b1)\n",
    "    c2 = tf.layers.conv2d(h1, filters=n_filter, kernel_size=3, padding='SAME')\n",
    "    b2 = tf.layers.batch_normalization(c2)\n",
    "    s1 = b2 + c1\n",
    "    h2 = tf.nn.relu(s1)\n",
    "    return h2"
   ]
  },
  {
   "cell_type": "code",
   "execution_count": 17,
   "metadata": {},
   "outputs": [],
   "source": [
    "tf.reset_default_graph()\n",
    "\n",
    "input_features = tf.placeholder(tf.float32, [None, n, n, n_feature])\n",
    "# Training\n",
    "train_values = tf.placeholder(tf.float32, [None])\n",
    "train_pi = tf.placeholder(tf.float32, [None, n_actions])\n",
    "\n",
    "# Convolution Block\n",
    "conv_layer = tf.layers.conv2d(input_features, filters=n_filter, kernel_size=3, padding='SAME')\n",
    "batch_norm_layer = tf.layers.batch_normalization(conv_layer) # mini-go uses a different config\n",
    "h1 = tf.nn.relu(batch_norm_layer)\n",
    "\n",
    "current_layer = h1\n",
    "for i in range(n_res):\n",
    "    current_layer = residual_block(current_layer)\n",
    "    \n",
    "# Policy head\n",
    "policy_conv = tf.layers.conv2d(current_layer, filters=2, kernel_size=1)\n",
    "policy_batch = tf.nn.relu(tf.layers.batch_normalization(policy_conv))\n",
    "policy_flat = tf.layers.flatten(policy_batch)\n",
    "policy_logits = tf.layers.dense(policy_flat, n_actions)\n",
    "\n",
    "# Value head \n",
    "value_conv = tf.layers.conv2d(current_layer, filters=1, kernel_size=1)\n",
    "value_batch = tf.nn.relu(tf.layers.batch_normalization(value_conv))\n",
    "value_flat = tf.layers.flatten(value_batch)\n",
    "value_dense = tf.layers.dense(value_flat, 256, activation=tf.nn.relu)\n",
    "value_output = tf.nn.tanh(tf.layers.dense(value_dense, 1))\n",
    "\n",
    "policy_cost = tf.reduce_mean(tf.nn.softmax_cross_entropy_with_logits(logits=policy_logits, labels=train_pi))\n",
    "value_cost = tf.reduce_mean(tf.square(value_output - train_values))\n",
    "combined_cost = policy_cost + value_cost\n",
    "\n",
    "optimiser = tf.train.MomentumOptimizer(1e-3, 0.9)\n",
    "train_op = optimiser.minimize(combined_cost)"
   ]
  },
  {
   "cell_type": "code",
   "execution_count": 10,
   "metadata": {},
   "outputs": [],
   "source": [
    "from tensorflow.python.layers.core import flatten, dense"
   ]
  },
  {
   "cell_type": "code",
   "execution_count": 7,
   "metadata": {},
   "outputs": [
    {
     "ename": "NameError",
     "evalue": "name 'Dense' is not defined",
     "output_type": "error",
     "traceback": [
      "\u001b[0;31m---------------------------------------------------------------------------\u001b[0m",
      "\u001b[0;31mNameError\u001b[0m                                 Traceback (most recent call last)",
      "\u001b[0;32m<ipython-input-7-40260275500e>\u001b[0m in \u001b[0;36m<module>\u001b[0;34m()\u001b[0m\n\u001b[0;32m----> 1\u001b[0;31m \u001b[0mDense\u001b[0m\u001b[0;34m(\u001b[0m\u001b[0;34m)\u001b[0m\u001b[0;34m\u001b[0m\u001b[0m\n\u001b[0m",
      "\u001b[0;31mNameError\u001b[0m: name 'Dense' is not defined"
     ]
    }
   ],
   "source": [
    "Dense()"
   ]
  },
  {
   "cell_type": "code",
   "execution_count": null,
   "metadata": {},
   "outputs": [],
   "source": []
  }
 ],
 "metadata": {
  "kernelspec": {
   "display_name": "Python 3",
   "language": "python",
   "name": "python3"
  },
  "language_info": {
   "codemirror_mode": {
    "name": "ipython",
    "version": 3
   },
   "file_extension": ".py",
   "mimetype": "text/x-python",
   "name": "python",
   "nbconvert_exporter": "python",
   "pygments_lexer": "ipython3",
   "version": "3.5.2"
  }
 },
 "nbformat": 4,
 "nbformat_minor": 2
}
