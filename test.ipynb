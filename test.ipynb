{
 "cells": [
  {
   "cell_type": "code",
   "execution_count": 43,
   "metadata": {
    "collapsed": false
   },
   "outputs": [],
   "source": [
    "import os\n",
    "import joblib\n",
    "import pachi_py\n",
    "import numpy as np"
   ]
  },
  {
   "cell_type": "code",
   "execution_count": 30,
   "metadata": {
    "collapsed": false
   },
   "outputs": [],
   "source": [
    "names = ['data/' + i for i in os.listdir('data')]"
   ]
  },
  {
   "cell_type": "code",
   "execution_count": 72,
   "metadata": {
    "collapsed": false
   },
   "outputs": [],
   "source": [
    "batch = joblib.load(names[12])"
   ]
  },
  {
   "cell_type": "code",
   "execution_count": 104,
   "metadata": {
    "collapsed": false
   },
   "outputs": [],
   "source": [
    "def process_batch(batch):\n",
    "    def process_colour(c):\n",
    "        states, actions = zip(*batch['hist'][c])\n",
    "        states = np.asanyarray(states)\n",
    "        actions = np.asanyarray(actions)\n",
    "\n",
    "        player = np.ones_like(actions) * (c-1)\n",
    "        value = np.ones_like(actions) * np.sign(batch['result'])* (c*2-3)\n",
    "        return (states, actions, value, player)\n",
    "    \n",
    "    full = [process_colour(i) for i in (pachi_py.BLACK, pachi_py.WHITE)]\n",
    "    full = zip(*full)\n",
    "    full = [np.concatenate(f, axis=0) for f in full]\n",
    "    return full"
   ]
  },
  {
   "cell_type": "code",
   "execution_count": 105,
   "metadata": {
    "collapsed": false
   },
   "outputs": [],
   "source": [
    "s, a, v, p = process_batch(batch)"
   ]
  }
 ],
 "metadata": {
  "kernelspec": {
   "display_name": "Python 3",
   "language": "python",
   "name": "python3"
  },
  "language_info": {
   "codemirror_mode": {
    "name": "ipython",
    "version": 3
   },
   "file_extension": ".py",
   "mimetype": "text/x-python",
   "name": "python",
   "nbconvert_exporter": "python",
   "pygments_lexer": "ipython3",
   "version": "3.5.2"
  }
 },
 "nbformat": 4,
 "nbformat_minor": 2
}
